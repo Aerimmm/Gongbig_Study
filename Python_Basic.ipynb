{
 "cells": [
  {
   "cell_type": "code",
   "execution_count": 2,
   "id": "b27b1597",
   "metadata": {
    "scrolled": true
   },
   "outputs": [
    {
     "name": "stdout",
     "output_type": "stream",
     "text": [
      "Hello Python\n"
     ]
    }
   ],
   "source": [
    "print(\"Hello Python\")"
   ]
  },
  {
   "cell_type": "code",
   "execution_count": 4,
   "id": "22f43365",
   "metadata": {},
   "outputs": [],
   "source": [
    "# 2. 데이터 분석을 위한 파이썬 기본 문법"
   ]
  },
  {
   "cell_type": "code",
   "execution_count": 6,
   "id": "ba1f2941",
   "metadata": {},
   "outputs": [
    {
     "data": {
      "text/plain": [
       "'\\n리스트 = 대괄호 [] 다양한 문장, 순서를 가지고 있음 . 0123 ..\\n튜플 = 소괄호 () 보기만 할 수 있고 변경 추가 삭제 불가. 순서를 가지고 있음.\\n세트 = 중괄호 {} 순서가 없음(집합), 중복 데이터 불가능, 추가/변경/삭제 가능\\n딕셔너리 = 중괄호 {}, key-value 를 가진다, 순서를 가지고 있다, 변경,추가,삭제 가능\\n'"
      ]
     },
     "execution_count": 6,
     "metadata": {},
     "output_type": "execute_result"
    }
   ],
   "source": [
    "'''\n",
    "리스트 = 대괄호 [] 다양한 문장, 순서를 가지고 있음 . 0123 ..\n",
    "튜플 = 소괄호 () 보기만 할 수 있고 변경 추가 삭제 불가. 순서를 가지고 있음.\n",
    "세트 = 중괄호 {} 순서가 없음(집합), 중복 데이터 불가능, 추가/변경/삭제 가능\n",
    "딕셔너리 = 중괄호 {}, key-value 를 가진다, 순서를 가지고 있다, 변경,추가,삭제 가능\n",
    "'''"
   ]
  },
  {
   "cell_type": "code",
   "execution_count": 7,
   "id": "a9e3a85f",
   "metadata": {},
   "outputs": [],
   "source": [
    "# 함수\n",
    "def get_char_count(lyric, char): #함수정의\n",
    "    count = 0\n",
    "    for i in lyric :\n",
    "        if(i == char):\n",
    "            count = count + 1\n",
    "    return count"
   ]
  },
  {
   "cell_type": "code",
   "execution_count": 12,
   "id": "5445f67e",
   "metadata": {},
   "outputs": [
    {
     "name": "stdout",
     "output_type": "stream",
     "text": [
      "4\n"
     ]
    }
   ],
   "source": [
    "# 실행코드\n",
    "lyric = \"\"\"산토끼 토끼야. 어디를 가느냐. 깡총깡총 뛰면서. 어디를 가느냐.\n",
    "           산 고개 고개를. 나 혼자 넘어서. 토실토실 알밤을. 주워올 테야.\"\"\"\n",
    "\n",
    "print(get_char_count(lyric,'토'))"
   ]
  },
  {
   "cell_type": "code",
   "execution_count": 10,
   "id": "ce5ff723",
   "metadata": {},
   "outputs": [
    {
     "name": "stdout",
     "output_type": "stream",
     "text": [
      "1\n"
     ]
    }
   ],
   "source": [
    "print(get_char_count(lyric,'알'))"
   ]
  },
  {
   "cell_type": "code",
   "execution_count": 1,
   "id": "fe603708",
   "metadata": {},
   "outputs": [
    {
     "name": "stdout",
     "output_type": "stream",
     "text": [
      "아이스 아메리카노\n"
     ]
    }
   ],
   "source": [
    "#연습문제 1\n",
    "def americano(temp) :\n",
    "    if temp >= 0 :\n",
    "        print(\"아이스 아메리카노\")\n",
    "    elif temp <0 :\n",
    "        print(\"따뜻한 아메리카노\")\n",
    "\n",
    "americano(30)\n"
   ]
  },
  {
   "cell_type": "code",
   "execution_count": 13,
   "id": "ad0373d0",
   "metadata": {},
   "outputs": [
    {
     "name": "stdout",
     "output_type": "stream",
     "text": [
      "따뜻한 아메리카노\n"
     ]
    }
   ],
   "source": [
    "# 연습문제 1 \n",
    "기온 = 0\n",
    "if 기온 > 0 :\n",
    "    print('아이스 아메리카노')\n",
    "else :\n",
    "    print('따뜻한 아메리카노')"
   ]
  },
  {
   "cell_type": "code",
   "execution_count": 16,
   "id": "d433a108",
   "metadata": {},
   "outputs": [
    {
     "name": "stdout",
     "output_type": "stream",
     "text": [
      "따뜻한 아메리카노\n"
     ]
    }
   ],
   "source": [
    "# 답\n",
    "def coffee(temp):\n",
    "    if temp >0 :\n",
    "        print(\"아이스 아메리카노\")\n",
    "    else :\n",
    "        print('따뜻한 아메리카노')\n",
    "        \n",
    "# 함수호출\n",
    "coffee(-30)"
   ]
  },
  {
   "cell_type": "code",
   "execution_count": 4,
   "id": "f48fd9b3",
   "metadata": {},
   "outputs": [
    {
     "name": "stdout",
     "output_type": "stream",
     "text": [
      "[85, 95, 75, 70, 90, 100, 95, 85, 80, 85]\n"
     ]
    }
   ],
   "source": [
    "# 연습문제 2\n",
    "def 변경성적(성적) :\n",
    "    new_scores = []\n",
    "    \n",
    "    for s in 성적 :\n",
    "        new = s + 5\n",
    "        new_scores.append(new)\n",
    "    return new_scores\n",
    "\n",
    "성적 = [80, 90, 70, 65, 85, 95, 90, 80, 75, 80]\n",
    "new = 변경성적(성적)\n",
    "print(new)"
   ]
  },
  {
   "cell_type": "code",
   "execution_count": 21,
   "id": "ffac50cb",
   "metadata": {},
   "outputs": [
    {
     "name": "stdout",
     "output_type": "stream",
     "text": [
      "[95, 85, 70, 60, 95, 100, 90]\n"
     ]
    }
   ],
   "source": [
    "# 답\n",
    "def update_scores(scores) :\n",
    "    new_scores = []\n",
    "    \n",
    "    for s in scores :\n",
    "        new = s + 5\n",
    "        new_scores.append(new)\n",
    "    return new_scores\n",
    "\n",
    "scores = [90, 80, 65, 55, 90, 95, 85]\n",
    "new = update_scores(scores)\n",
    "print(new)"
   ]
  },
  {
   "cell_type": "code",
   "execution_count": 6,
   "id": "343de858",
   "metadata": {},
   "outputs": [
    {
     "data": {
      "text/plain": [
       "('HUNGRY', 'hungry')"
      ]
     },
     "execution_count": 6,
     "metadata": {},
     "output_type": "execute_result"
    }
   ],
   "source": [
    "# 연습문제 3\n",
    "def change(alp) :\n",
    "    uppercase = alp.upper()\n",
    "    lowercase = alp.lower()\n",
    "    return uppercase , lowercase\n",
    "\n",
    "change('hungry')"
   ]
  },
  {
   "cell_type": "code",
   "execution_count": 8,
   "id": "2d720532",
   "metadata": {},
   "outputs": [
    {
     "data": {
      "text/plain": [
       "0.4"
      ]
     },
     "execution_count": 8,
     "metadata": {},
     "output_type": "execute_result"
    }
   ],
   "source": [
    "# 연습문제 4\n",
    "def calculator(기호,숫자1,숫자2) :\n",
    "    if 기호 == '+' :\n",
    "        return 숫자1 + 숫자2\n",
    "    elif 기호 == '-' :\n",
    "        return 숫자1 - 숫자2\n",
    "    elif 기호 == '*' :\n",
    "        return 숫자1 * 숫자2\n",
    "    elif 기호 == '/' :\n",
    "        return 숫자1 / 숫자2\n",
    "# 출력\n",
    "calculator('/',2,5)"
   ]
  },
  {
   "cell_type": "code",
   "execution_count": 10,
   "id": "86ba8a12",
   "metadata": {},
   "outputs": [
    {
     "data": {
      "text/plain": [
       "11"
      ]
     },
     "execution_count": 10,
     "metadata": {},
     "output_type": "execute_result"
    }
   ],
   "source": [
    "# 연습문제5\n",
    "def plus(*숫자) :\n",
    "    result = 0\n",
    "    for num in 숫자 :\n",
    "        result = result + num\n",
    "    return result\n",
    "# 출력\n",
    "plus(2,4,5)"
   ]
  },
  {
   "cell_type": "code",
   "execution_count": 11,
   "id": "0664c636",
   "metadata": {},
   "outputs": [
    {
     "data": {
      "text/plain": [
       "58.5"
      ]
     },
     "execution_count": 11,
     "metadata": {},
     "output_type": "execute_result"
    }
   ],
   "source": [
    "# 연습문제 6\n",
    "def 권장체중(성별,키) :\n",
    "    if 성별 == '여자' :\n",
    "        return  (키-100)*0.9\n",
    "    elif 성별 == '남자' :\n",
    "        return 키 - 100\n",
    "    \n",
    "권장체중('여자',165)"
   ]
  },
  {
   "cell_type": "code",
   "execution_count": 14,
   "id": "0da406b9",
   "metadata": {},
   "outputs": [
    {
     "data": {
      "text/plain": [
       "63.0"
      ]
     },
     "execution_count": 14,
     "metadata": {},
     "output_type": "execute_result"
    }
   ],
   "source": [
    "# 연습문제 7\n",
    "weight2 = lambda man, height : (height - 100) * 0.9 if(man) else (height - 100)\n",
    "\n",
    "weight2(True,170) # False 인 경우 man, True 의 경우 woman"
   ]
  },
  {
   "cell_type": "code",
   "execution_count": 16,
   "id": "29ac832d",
   "metadata": {},
   "outputs": [
    {
     "data": {
      "text/plain": [
       "<function TextIOWrapper.close()>"
      ]
     },
     "execution_count": 16,
     "metadata": {},
     "output_type": "execute_result"
    }
   ],
   "source": [
    "# 연습문제 8\n",
    "d = open(\"abcd.txt\", 'w')\n",
    "d.write(\"A B C D E F\")\n",
    "d.close"
   ]
  },
  {
   "cell_type": "code",
   "execution_count": 20,
   "id": "83381914",
   "metadata": {},
   "outputs": [
    {
     "name": "stdout",
     "output_type": "stream",
     "text": [
      "a,b,c,d,e\n"
     ]
    }
   ],
   "source": [
    "d = open(\"abc.txt\", \"r\")\n",
    "print(d.read())\n",
    "d.close()"
   ]
  },
  {
   "cell_type": "code",
   "execution_count": 32,
   "id": "8a5680e6",
   "metadata": {},
   "outputs": [],
   "source": [
    "import numpy as np"
   ]
  },
  {
   "cell_type": "code",
   "execution_count": 33,
   "id": "a4bae064",
   "metadata": {},
   "outputs": [
    {
     "data": {
      "text/plain": [
       "array([1, 2, 3])"
      ]
     },
     "execution_count": 33,
     "metadata": {},
     "output_type": "execute_result"
    }
   ],
   "source": [
    "list1 = [1, 2, 3]\n",
    "arr1 = np.array(list1)\n",
    "arr1"
   ]
  },
  {
   "cell_type": "code",
   "execution_count": 50,
   "id": "260b3dad",
   "metadata": {},
   "outputs": [
    {
     "ename": "TypeError",
     "evalue": "Cannot interpret '4' as a data type",
     "output_type": "error",
     "traceback": [
      "\u001b[1;31m---------------------------------------------------------------------------\u001b[0m",
      "\u001b[1;31mTypeError\u001b[0m                                 Traceback (most recent call last)",
      "Input \u001b[1;32mIn [50]\u001b[0m, in \u001b[0;36m<cell line: 1>\u001b[1;34m()\u001b[0m\n\u001b[1;32m----> 1\u001b[0m \u001b[43mnp\u001b[49m\u001b[38;5;241;43m.\u001b[39;49m\u001b[43mzeros\u001b[49m\u001b[43m(\u001b[49m\u001b[38;5;241;43m2\u001b[39;49m\u001b[43m,\u001b[49m\u001b[38;5;241;43m4\u001b[39;49m\u001b[43m)\u001b[49m\n",
      "\u001b[1;31mTypeError\u001b[0m: Cannot interpret '4' as a data type"
     ]
    }
   ],
   "source": [
    "np.zeros(2,4)"
   ]
  },
  {
   "cell_type": "code",
   "execution_count": 38,
   "id": "6af6283e",
   "metadata": {},
   "outputs": [
    {
     "data": {
      "text/plain": [
       "array([0., 0.])"
      ]
     },
     "execution_count": 38,
     "metadata": {},
     "output_type": "execute_result"
    }
   ],
   "source": [
    "np.zeros(2)"
   ]
  },
  {
   "cell_type": "code",
   "execution_count": 36,
   "id": "e4d67fbe",
   "metadata": {},
   "outputs": [
    {
     "data": {
      "text/plain": [
       "array([1., 1., 1., 1., 1., 1., 1.])"
      ]
     },
     "execution_count": 36,
     "metadata": {},
     "output_type": "execute_result"
    }
   ],
   "source": [
    "np.ones(7)"
   ]
  },
  {
   "cell_type": "code",
   "execution_count": 39,
   "id": "49491423",
   "metadata": {},
   "outputs": [
    {
     "data": {
      "text/plain": [
       "array([0., 0., 0., 0., 0.])"
      ]
     },
     "execution_count": 39,
     "metadata": {},
     "output_type": "execute_result"
    }
   ],
   "source": [
    "np.empty(5)"
   ]
  },
  {
   "cell_type": "code",
   "execution_count": 41,
   "id": "e1bc1447",
   "metadata": {},
   "outputs": [
    {
     "data": {
      "text/plain": [
       "array([0, 1, 2, 3, 4, 5, 6, 7, 8, 9])"
      ]
     },
     "execution_count": 41,
     "metadata": {},
     "output_type": "execute_result"
    }
   ],
   "source": [
    "np.arange(10)"
   ]
  },
  {
   "cell_type": "code",
   "execution_count": 42,
   "id": "81303f3c",
   "metadata": {},
   "outputs": [
    {
     "data": {
      "text/plain": [
       "array([20, 22, 24, 26, 28])"
      ]
     },
     "execution_count": 42,
     "metadata": {},
     "output_type": "execute_result"
    }
   ],
   "source": [
    "np.arange(20, 30, 2)"
   ]
  },
  {
   "cell_type": "code",
   "execution_count": 44,
   "id": "c3ba2eb0",
   "metadata": {},
   "outputs": [
    {
     "data": {
      "text/plain": [
       "array([[0.48863315, 0.4792824 , 0.90902881],\n",
       "       [0.53246824, 0.31026774, 0.22896751]])"
      ]
     },
     "execution_count": 44,
     "metadata": {},
     "output_type": "execute_result"
    }
   ],
   "source": [
    "np.random.rand(2,3)"
   ]
  },
  {
   "cell_type": "code",
   "execution_count": 51,
   "id": "661e6224",
   "metadata": {},
   "outputs": [
    {
     "data": {
      "text/plain": [
       "array([ 0,  1,  2,  3,  4,  5,  6,  7,  8,  9, 10, 11, 12, 13, 14, 15])"
      ]
     },
     "execution_count": 51,
     "metadata": {},
     "output_type": "execute_result"
    }
   ],
   "source": [
    "arr2 = np.arange(16)\n",
    "arr2"
   ]
  },
  {
   "cell_type": "code",
   "execution_count": 52,
   "id": "319e0969",
   "metadata": {},
   "outputs": [
    {
     "data": {
      "text/plain": [
       "array([[ 0,  1,  2,  3],\n",
       "       [ 4,  5,  6,  7],\n",
       "       [ 8,  9, 10, 11],\n",
       "       [12, 13, 14, 15]])"
      ]
     },
     "execution_count": 52,
     "metadata": {},
     "output_type": "execute_result"
    }
   ],
   "source": [
    "arr2.reshape(4,4)"
   ]
  },
  {
   "cell_type": "code",
   "execution_count": 53,
   "id": "7c22ba2a",
   "metadata": {},
   "outputs": [
    {
     "data": {
      "text/plain": [
       "array([[[ 0,  1,  2,  3],\n",
       "        [ 4,  5,  6,  7]],\n",
       "\n",
       "       [[ 8,  9, 10, 11],\n",
       "        [12, 13, 14, 15]]])"
      ]
     },
     "execution_count": 53,
     "metadata": {},
     "output_type": "execute_result"
    }
   ],
   "source": [
    "arr2.reshape(2,2,4)"
   ]
  },
  {
   "cell_type": "code",
   "execution_count": 55,
   "id": "d290cf80",
   "metadata": {},
   "outputs": [
    {
     "data": {
      "text/plain": [
       "array([ 0,  1,  2,  3,  4,  5,  6,  7,  8,  9, 10, 11, 12, 13, 14, 15])"
      ]
     },
     "execution_count": 55,
     "metadata": {},
     "output_type": "execute_result"
    }
   ],
   "source": [
    "arr = np.arange(16)\n",
    "arr"
   ]
  },
  {
   "cell_type": "code",
   "execution_count": 56,
   "id": "a9834e19",
   "metadata": {},
   "outputs": [
    {
     "data": {
      "text/plain": [
       "(16,)"
      ]
     },
     "execution_count": 56,
     "metadata": {},
     "output_type": "execute_result"
    }
   ],
   "source": [
    "arr.shape # 데이터 수를 가장 많이, 처음으로 세어보므로 중요,"
   ]
  },
  {
   "cell_type": "code",
   "execution_count": 57,
   "id": "791b58c1",
   "metadata": {},
   "outputs": [
    {
     "data": {
      "text/plain": [
       "dtype('int32')"
      ]
     },
     "execution_count": 57,
     "metadata": {},
     "output_type": "execute_result"
    }
   ],
   "source": [
    "arr.dtype"
   ]
  },
  {
   "cell_type": "code",
   "execution_count": 58,
   "id": "84f46519",
   "metadata": {},
   "outputs": [
    {
     "data": {
      "text/plain": [
       "array([ 0.,  1.,  2.,  3.,  4.,  5.,  6.,  7.,  8.,  9., 10., 11., 12.,\n",
       "       13., 14., 15.])"
      ]
     },
     "execution_count": 58,
     "metadata": {},
     "output_type": "execute_result"
    }
   ],
   "source": [
    "arr.astype(float) # 정수 array가 실수로 바뀌는 것을 볼 수 있다."
   ]
  },
  {
   "cell_type": "code",
   "execution_count": 60,
   "id": "6d3c8264",
   "metadata": {},
   "outputs": [
    {
     "data": {
      "text/plain": [
       "array([ 0,  1,  2,  3,  4,  5,  6,  7,  8,  9, 10, 11, 12, 13, 14, 15])"
      ]
     },
     "execution_count": 60,
     "metadata": {},
     "output_type": "execute_result"
    }
   ],
   "source": [
    "import numpy as np\n",
    "arr = np.arange(16)\n",
    "arr"
   ]
  },
  {
   "cell_type": "code",
   "execution_count": 61,
   "id": "46a2c3f8",
   "metadata": {},
   "outputs": [
    {
     "data": {
      "text/plain": [
       "5"
      ]
     },
     "execution_count": 61,
     "metadata": {},
     "output_type": "execute_result"
    }
   ],
   "source": [
    "# 기본 인덱스\n",
    "arr[5]"
   ]
  },
  {
   "cell_type": "code",
   "execution_count": 62,
   "id": "76ea64e4",
   "metadata": {},
   "outputs": [
    {
     "data": {
      "text/plain": [
       "15"
      ]
     },
     "execution_count": 62,
     "metadata": {},
     "output_type": "execute_result"
    }
   ],
   "source": [
    "arr[-1]"
   ]
  },
  {
   "cell_type": "code",
   "execution_count": 63,
   "id": "2dcdfab6",
   "metadata": {},
   "outputs": [
    {
     "data": {
      "text/plain": [
       "array([5, 6, 7])"
      ]
     },
     "execution_count": 63,
     "metadata": {},
     "output_type": "execute_result"
    }
   ],
   "source": [
    "arr[5:8]  # 8번 바로 전까지 나온다."
   ]
  },
  {
   "cell_type": "code",
   "execution_count": 64,
   "id": "3d2fa4f2",
   "metadata": {},
   "outputs": [
    {
     "data": {
      "text/plain": [
       "array([[ 0,  1,  2,  3],\n",
       "       [ 4,  5,  6,  7],\n",
       "       [ 8,  9, 10, 11],\n",
       "       [12, 13, 14, 15]])"
      ]
     },
     "execution_count": 64,
     "metadata": {},
     "output_type": "execute_result"
    }
   ],
   "source": [
    "# 다차원 배열\n",
    "arr2 = np.arange(16).reshape(4,4) #메서드 체인\n",
    "arr2"
   ]
  },
  {
   "cell_type": "code",
   "execution_count": 65,
   "id": "d9a0b1d1",
   "metadata": {},
   "outputs": [
    {
     "data": {
      "text/plain": [
       "array([4, 5, 6, 7])"
      ]
     },
     "execution_count": 65,
     "metadata": {},
     "output_type": "execute_result"
    }
   ],
   "source": [
    "arr2[1]"
   ]
  },
  {
   "cell_type": "code",
   "execution_count": 68,
   "id": "0f1b508b",
   "metadata": {},
   "outputs": [
    {
     "data": {
      "text/plain": [
       "6"
      ]
     },
     "execution_count": 68,
     "metadata": {},
     "output_type": "execute_result"
    }
   ],
   "source": [
    "arr2[1][2]"
   ]
  },
  {
   "cell_type": "code",
   "execution_count": 67,
   "id": "4fd9b4c7",
   "metadata": {},
   "outputs": [
    {
     "data": {
      "text/plain": [
       "0"
      ]
     },
     "execution_count": 67,
     "metadata": {},
     "output_type": "execute_result"
    }
   ],
   "source": [
    "arr2[0][0]"
   ]
  },
  {
   "cell_type": "code",
   "execution_count": 72,
   "id": "b9a6050d",
   "metadata": {},
   "outputs": [
    {
     "data": {
      "text/plain": [
       "array([80, 90, 70, 65, 85, 90, 80, 75, 80, 95])"
      ]
     },
     "execution_count": 72,
     "metadata": {},
     "output_type": "execute_result"
    }
   ],
   "source": [
    "#불리언 인덱스를 사용한 선택\n",
    "scores = [80, 90, 70, 65, 85, 90, 80, 75, 80, 95]\n",
    "score_arr = np.array(scores)\n",
    "score_arr"
   ]
  },
  {
   "cell_type": "code",
   "execution_count": 73,
   "id": "dbb103b1",
   "metadata": {},
   "outputs": [
    {
     "data": {
      "text/plain": [
       "array([90, 90, 95])"
      ]
     },
     "execution_count": 73,
     "metadata": {},
     "output_type": "execute_result"
    }
   ],
   "source": [
    "score_arr[score_arr >= 90]"
   ]
  },
  {
   "cell_type": "code",
   "execution_count": 74,
   "id": "c11007c6",
   "metadata": {},
   "outputs": [],
   "source": [
    "score_arr[score_arr >= 90] = 999"
   ]
  },
  {
   "cell_type": "code",
   "execution_count": 77,
   "id": "3d7c5e32",
   "metadata": {},
   "outputs": [
    {
     "data": {
      "text/plain": [
       "array([1, 2, 3, 4])"
      ]
     },
     "execution_count": 77,
     "metadata": {},
     "output_type": "execute_result"
    }
   ],
   "source": [
    "arr = np.arange(1,5)\n",
    "arr"
   ]
  },
  {
   "cell_type": "code",
   "execution_count": 78,
   "id": "ee4327c8",
   "metadata": {},
   "outputs": [
    {
     "data": {
      "text/plain": [
       "array([3, 4, 5, 6])"
      ]
     },
     "execution_count": 78,
     "metadata": {},
     "output_type": "execute_result"
    }
   ],
   "source": [
    "arr + 2"
   ]
  },
  {
   "cell_type": "code",
   "execution_count": 79,
   "id": "9f8a2f85",
   "metadata": {},
   "outputs": [
    {
     "data": {
      "text/plain": [
       "array([2, 4, 6, 8])"
      ]
     },
     "execution_count": 79,
     "metadata": {},
     "output_type": "execute_result"
    }
   ],
   "source": [
    "arr * 2"
   ]
  },
  {
   "cell_type": "code",
   "execution_count": 81,
   "id": "423f92bd",
   "metadata": {},
   "outputs": [
    {
     "data": {
      "text/plain": [
       "[1, 2, 3, 4]"
      ]
     },
     "execution_count": 81,
     "metadata": {},
     "output_type": "execute_result"
    }
   ],
   "source": [
    "list = [1, 2, 3, 4]\n",
    "list"
   ]
  },
  {
   "cell_type": "code",
   "execution_count": 82,
   "id": "356a3e59",
   "metadata": {},
   "outputs": [
    {
     "data": {
      "text/plain": [
       "[1, 2, 3, 4, 1, 2, 3, 4]"
      ]
     },
     "execution_count": 82,
     "metadata": {},
     "output_type": "execute_result"
    }
   ],
   "source": [
    "list * 2"
   ]
  },
  {
   "cell_type": "code",
   "execution_count": 84,
   "id": "432d9383",
   "metadata": {},
   "outputs": [
    {
     "data": {
      "text/plain": [
       "array([5, 6, 7, 8])"
      ]
     },
     "execution_count": 84,
     "metadata": {},
     "output_type": "execute_result"
    }
   ],
   "source": [
    "arr1 = np.arange(5,9)\n",
    "arr1"
   ]
  },
  {
   "cell_type": "code",
   "execution_count": 85,
   "id": "36696686",
   "metadata": {},
   "outputs": [
    {
     "data": {
      "text/plain": [
       "array([ 6,  8, 10, 12])"
      ]
     },
     "execution_count": 85,
     "metadata": {},
     "output_type": "execute_result"
    }
   ],
   "source": [
    "arr + arr1"
   ]
  },
  {
   "cell_type": "code",
   "execution_count": 87,
   "id": "2d17c3a9",
   "metadata": {},
   "outputs": [
    {
     "data": {
      "text/plain": [
       "[1, 2, 3, 4, 5, 6, 7, 8]"
      ]
     },
     "execution_count": 87,
     "metadata": {},
     "output_type": "execute_result"
    }
   ],
   "source": [
    "list1 = [5, 6, 7, 8]\n",
    "list + list1"
   ]
  },
  {
   "cell_type": "code",
   "execution_count": 91,
   "id": "6f9bfd4e",
   "metadata": {},
   "outputs": [
    {
     "data": {
      "text/plain": [
       "array([[0, 1, 2, 3, 4],\n",
       "       [5, 6, 7, 8, 9]])"
      ]
     },
     "execution_count": 91,
     "metadata": {},
     "output_type": "execute_result"
    }
   ],
   "source": [
    "arr = np.arange(10).reshape(2,5)\n",
    "arr"
   ]
  },
  {
   "cell_type": "code",
   "execution_count": 93,
   "id": "c85f8fc9",
   "metadata": {},
   "outputs": [
    {
     "data": {
      "text/plain": [
       "array([[0, 5],\n",
       "       [1, 6],\n",
       "       [2, 7],\n",
       "       [3, 8],\n",
       "       [4, 9]])"
      ]
     },
     "execution_count": 93,
     "metadata": {},
     "output_type": "execute_result"
    }
   ],
   "source": [
    "arr.transpose()"
   ]
  },
  {
   "cell_type": "code",
   "execution_count": 94,
   "id": "73c026c4",
   "metadata": {},
   "outputs": [
    {
     "data": {
      "text/plain": [
       "array([[0, 5],\n",
       "       [1, 6],\n",
       "       [2, 7],\n",
       "       [3, 8],\n",
       "       [4, 9]])"
      ]
     },
     "execution_count": 94,
     "metadata": {},
     "output_type": "execute_result"
    }
   ],
   "source": [
    "arr.T"
   ]
  },
  {
   "cell_type": "code",
   "execution_count": 95,
   "id": "130f9bfb",
   "metadata": {},
   "outputs": [],
   "source": [
    "# 저장하기\n",
    "np.save('array', arr)"
   ]
  },
  {
   "cell_type": "code",
   "execution_count": 96,
   "id": "ff0db057",
   "metadata": {},
   "outputs": [],
   "source": [
    "load_arr = np.load('array.npy')"
   ]
  },
  {
   "cell_type": "code",
   "execution_count": 97,
   "id": "8d3e293b",
   "metadata": {},
   "outputs": [
    {
     "data": {
      "text/plain": [
       "array([[0, 1, 2, 3, 4],\n",
       "       [5, 6, 7, 8, 9]])"
      ]
     },
     "execution_count": 97,
     "metadata": {},
     "output_type": "execute_result"
    }
   ],
   "source": [
    "load_arr"
   ]
  },
  {
   "cell_type": "code",
   "execution_count": 101,
   "id": "b5d92906",
   "metadata": {},
   "outputs": [
    {
     "data": {
      "text/plain": [
       "('SLEEPY', 'sleepy')"
      ]
     },
     "execution_count": 101,
     "metadata": {},
     "output_type": "execute_result"
    }
   ],
   "source": [
    "# 예제 3\n",
    "# 함수\n",
    "def change_world_case(word):\n",
    "    upperCase = word.upper()\n",
    "    lowerCase = word.lower()\n",
    "    return upperCase, lowerCase\n",
    "# 함수 호출\n",
    "change_world_case(\"sleEPy\")"
   ]
  },
  {
   "cell_type": "code",
   "execution_count": 106,
   "id": "a2cde8b6",
   "metadata": {},
   "outputs": [
    {
     "data": {
      "text/plain": [
       "12"
      ]
     },
     "execution_count": 106,
     "metadata": {},
     "output_type": "execute_result"
    }
   ],
   "source": [
    "# 예제 4 계산기 만들기\n",
    "# 함수\n",
    "def calculator(operator, num1, num2) :\n",
    "    if(operator == '+') :\n",
    "        return num1 + num2\n",
    "    elif(operator == '-') :\n",
    "        return num1 - num2\n",
    "    elif(operator == '/') :\n",
    "        return num1 / num2\n",
    "    elif(operator == '*') :\n",
    "        if(num2 != 0):\n",
    "            return num1 * num2\n",
    "    else :\n",
    "        print('{} 는 연산이 불가능합니다.'.format(operator))\n",
    "        \n",
    "# 함수호출\n",
    "calculator('*',2,6)\n",
    "    "
   ]
  },
  {
   "cell_type": "code",
   "execution_count": 108,
   "id": "442dff54",
   "metadata": {},
   "outputs": [
    {
     "data": {
      "text/plain": [
       "10"
      ]
     },
     "execution_count": 108,
     "metadata": {},
     "output_type": "execute_result"
    }
   ],
   "source": [
    "# 예제 4 입력받은 수들 모두 더하기.\n",
    "def sum(*arg) : # 앞에 *을 붙여줘야 모두 더한다.\n",
    "    result = 0\n",
    "    for num in arg :\n",
    "        result = result + num\n",
    "    return result\n",
    "\n",
    "sum(2,3,5)"
   ]
  },
  {
   "cell_type": "code",
   "execution_count": 111,
   "id": "7d5f5a8b",
   "metadata": {},
   "outputs": [
    {
     "name": "stdout",
     "output_type": "stream",
     "text": [
      "70\n"
     ]
    }
   ],
   "source": [
    "# 예제 5 권장 체중 구하기\n",
    "def ramda(gender, height) :\n",
    "    if(gender == \"남자\") :\n",
    "        return print(height - 100)\n",
    "    elif(gender == \"여자\") :\n",
    "        return print((height - 100) * 0.9)\n",
    "    \n",
    "ramda('남자',170)"
   ]
  },
  {
   "cell_type": "code",
   "execution_count": 110,
   "id": "d258516b",
   "metadata": {},
   "outputs": [
    {
     "data": {
      "text/plain": [
       "70"
      ]
     },
     "execution_count": 110,
     "metadata": {},
     "output_type": "execute_result"
    }
   ],
   "source": [
    "# 샘플 답안\n",
    "# 권장 체중을 구하는 람다식\n",
    "weight2 = lambda man, height : (height - 100) * 0.9 if(man) else (height - 100)\n",
    "\n",
    "# 람다식 실행\n",
    "weight2(False, 170)"
   ]
  },
  {
   "cell_type": "code",
   "execution_count": 113,
   "id": "14eae5be",
   "metadata": {},
   "outputs": [],
   "source": [
    "# 예제 7 쓰기모드로 열고, write() 함수를 이용해 문자를 넣기\n",
    "f = open(\"abc.txt\",'w')\n",
    "f.write('a,b,c,d,e')\n",
    "f.close()"
   ]
  },
  {
   "cell_type": "code",
   "execution_count": 114,
   "id": "eea55ee5",
   "metadata": {},
   "outputs": [
    {
     "name": "stdout",
     "output_type": "stream",
     "text": [
      "a,b,c,d,e\n"
     ]
    }
   ],
   "source": [
    "# abc.txt 파일을 읽기모드로 열어서 읽기\n",
    "f = open('abc.txt','r')\n",
    "print(f.read())\n",
    "f.close()"
   ]
  },
  {
   "cell_type": "code",
   "execution_count": null,
   "id": "ce5a29ac",
   "metadata": {},
   "outputs": [],
   "source": []
  }
 ],
 "metadata": {
  "kernelspec": {
   "display_name": "Python 3 (ipykernel)",
   "language": "python",
   "name": "python3"
  },
  "language_info": {
   "codemirror_mode": {
    "name": "ipython",
    "version": 3
   },
   "file_extension": ".py",
   "mimetype": "text/x-python",
   "name": "python",
   "nbconvert_exporter": "python",
   "pygments_lexer": "ipython3",
   "version": "3.9.12"
  }
 },
 "nbformat": 4,
 "nbformat_minor": 5
}
