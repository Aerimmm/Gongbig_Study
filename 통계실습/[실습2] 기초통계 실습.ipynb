{
 "cells": [
  {
   "cell_type": "code",
   "execution_count": 4,
   "id": "8c65b13c",
   "metadata": {},
   "outputs": [],
   "source": [
    "import pandas as pd\n",
    "import numpy as np"
   ]
  },
  {
   "cell_type": "code",
   "execution_count": 5,
   "id": "0f70ed20",
   "metadata": {},
   "outputs": [
    {
     "data": {
      "text/html": [
       "<div>\n",
       "<style scoped>\n",
       "    .dataframe tbody tr th:only-of-type {\n",
       "        vertical-align: middle;\n",
       "    }\n",
       "\n",
       "    .dataframe tbody tr th {\n",
       "        vertical-align: top;\n",
       "    }\n",
       "\n",
       "    .dataframe thead th {\n",
       "        text-align: right;\n",
       "    }\n",
       "</style>\n",
       "<table border=\"1\" class=\"dataframe\">\n",
       "  <thead>\n",
       "    <tr style=\"text-align: right;\">\n",
       "      <th></th>\n",
       "      <th>score1</th>\n",
       "      <th>score2</th>\n",
       "      <th>score3</th>\n",
       "      <th>weight</th>\n",
       "      <th>diff</th>\n",
       "      <th>place</th>\n",
       "    </tr>\n",
       "  </thead>\n",
       "  <tbody>\n",
       "    <tr>\n",
       "      <th>0</th>\n",
       "      <td>99</td>\n",
       "      <td>79</td>\n",
       "      <td>59.0</td>\n",
       "      <td>5.43</td>\n",
       "      <td>-2.1</td>\n",
       "      <td>A</td>\n",
       "    </tr>\n",
       "    <tr>\n",
       "      <th>1</th>\n",
       "      <td>65</td>\n",
       "      <td>85</td>\n",
       "      <td>NaN</td>\n",
       "      <td>0.12</td>\n",
       "      <td>5.0</td>\n",
       "      <td>B</td>\n",
       "    </tr>\n",
       "    <tr>\n",
       "      <th>2</th>\n",
       "      <td>79</td>\n",
       "      <td>79</td>\n",
       "      <td>39.0</td>\n",
       "      <td>10.44</td>\n",
       "      <td>2.0</td>\n",
       "      <td>A</td>\n",
       "    </tr>\n",
       "    <tr>\n",
       "      <th>3</th>\n",
       "      <td>94</td>\n",
       "      <td>93</td>\n",
       "      <td>NaN</td>\n",
       "      <td>9.33</td>\n",
       "      <td>-5.4</td>\n",
       "      <td>A</td>\n",
       "    </tr>\n",
       "    <tr>\n",
       "      <th>4</th>\n",
       "      <td>87</td>\n",
       "      <td>97</td>\n",
       "      <td>NaN</td>\n",
       "      <td>4.22</td>\n",
       "      <td>-3.3</td>\n",
       "      <td>B</td>\n",
       "    </tr>\n",
       "  </tbody>\n",
       "</table>\n",
       "</div>"
      ],
      "text/plain": [
       "   score1  score2  score3  weight  diff place\n",
       "0      99      79    59.0    5.43  -2.1     A\n",
       "1      65      85     NaN    0.12   5.0     B\n",
       "2      79      79    39.0   10.44   2.0     A\n",
       "3      94      93     NaN    9.33  -5.4     A\n",
       "4      87      97     NaN    4.22  -3.3     B"
      ]
     },
     "execution_count": 5,
     "metadata": {},
     "output_type": "execute_result"
    }
   ],
   "source": [
    "data = pd.DataFrame (\n",
    "                    { \"score1\" : [99, 65, 79, 94, 87],\n",
    "                      \"score2\" : [79, 85, 79, 93, 97],\n",
    "                      \"score3\" : [59, np.nan, 39, np.nan, np.nan],\n",
    "                      \"weight\" : [5.43, 0.12, 10.44, 9.33, 4.22],\n",
    "                      \"diff\" : [-2.1, 5, 2, -5.4, -3.3],\n",
    "                      \"place\" : [\"A\", 'B',  'A', 'A', 'B']}\n",
    "                )\n",
    "data"
   ]
  },
  {
   "cell_type": "code",
   "execution_count": 6,
   "id": "4e1eba35",
   "metadata": {},
   "outputs": [
    {
     "name": "stdout",
     "output_type": "stream",
     "text": [
      "<class 'pandas.core.frame.DataFrame'>\n",
      "RangeIndex: 5 entries, 0 to 4\n",
      "Data columns (total 6 columns):\n",
      " #   Column  Non-Null Count  Dtype  \n",
      "---  ------  --------------  -----  \n",
      " 0   score1  5 non-null      int64  \n",
      " 1   score2  5 non-null      int64  \n",
      " 2   score3  2 non-null      float64\n",
      " 3   weight  5 non-null      float64\n",
      " 4   diff    5 non-null      float64\n",
      " 5   place   5 non-null      object \n",
      "dtypes: float64(3), int64(2), object(1)\n",
      "memory usage: 368.0+ bytes\n"
     ]
    }
   ],
   "source": [
    "# pandas 를 이용한요약 정보\n",
    "# info()  : 컬럼 이름, 결측률 제외한 값 카운트, 타입 확인\n",
    "# describe() : 데이터 프레임 컬럼별 카운트, 평균, 표준편차. 최소값, 4분위수, 최대값\n",
    "\n",
    "# 데이터 프레임의 요약 정보 확인\n",
    "data.info()"
   ]
  },
  {
   "cell_type": "code",
   "execution_count": 7,
   "id": "2ef2532f",
   "metadata": {
    "scrolled": true
   },
   "outputs": [
    {
     "data": {
      "text/html": [
       "<div>\n",
       "<style scoped>\n",
       "    .dataframe tbody tr th:only-of-type {\n",
       "        vertical-align: middle;\n",
       "    }\n",
       "\n",
       "    .dataframe tbody tr th {\n",
       "        vertical-align: top;\n",
       "    }\n",
       "\n",
       "    .dataframe thead th {\n",
       "        text-align: right;\n",
       "    }\n",
       "</style>\n",
       "<table border=\"1\" class=\"dataframe\">\n",
       "  <thead>\n",
       "    <tr style=\"text-align: right;\">\n",
       "      <th></th>\n",
       "      <th>score1</th>\n",
       "      <th>score2</th>\n",
       "      <th>score3</th>\n",
       "      <th>weight</th>\n",
       "      <th>diff</th>\n",
       "    </tr>\n",
       "  </thead>\n",
       "  <tbody>\n",
       "    <tr>\n",
       "      <th>count</th>\n",
       "      <td>5.00000</td>\n",
       "      <td>5.000000</td>\n",
       "      <td>2.000000</td>\n",
       "      <td>5.000000</td>\n",
       "      <td>5.000000</td>\n",
       "    </tr>\n",
       "    <tr>\n",
       "      <th>mean</th>\n",
       "      <td>84.80000</td>\n",
       "      <td>86.600000</td>\n",
       "      <td>49.000000</td>\n",
       "      <td>5.908000</td>\n",
       "      <td>-0.760000</td>\n",
       "    </tr>\n",
       "    <tr>\n",
       "      <th>std</th>\n",
       "      <td>13.38656</td>\n",
       "      <td>8.173127</td>\n",
       "      <td>14.142136</td>\n",
       "      <td>4.148128</td>\n",
       "      <td>4.200357</td>\n",
       "    </tr>\n",
       "    <tr>\n",
       "      <th>min</th>\n",
       "      <td>65.00000</td>\n",
       "      <td>79.000000</td>\n",
       "      <td>39.000000</td>\n",
       "      <td>0.120000</td>\n",
       "      <td>-5.400000</td>\n",
       "    </tr>\n",
       "    <tr>\n",
       "      <th>25%</th>\n",
       "      <td>79.00000</td>\n",
       "      <td>79.000000</td>\n",
       "      <td>44.000000</td>\n",
       "      <td>4.220000</td>\n",
       "      <td>-3.300000</td>\n",
       "    </tr>\n",
       "    <tr>\n",
       "      <th>50%</th>\n",
       "      <td>87.00000</td>\n",
       "      <td>85.000000</td>\n",
       "      <td>49.000000</td>\n",
       "      <td>5.430000</td>\n",
       "      <td>-2.100000</td>\n",
       "    </tr>\n",
       "    <tr>\n",
       "      <th>75%</th>\n",
       "      <td>94.00000</td>\n",
       "      <td>93.000000</td>\n",
       "      <td>54.000000</td>\n",
       "      <td>9.330000</td>\n",
       "      <td>2.000000</td>\n",
       "    </tr>\n",
       "    <tr>\n",
       "      <th>max</th>\n",
       "      <td>99.00000</td>\n",
       "      <td>97.000000</td>\n",
       "      <td>59.000000</td>\n",
       "      <td>10.440000</td>\n",
       "      <td>5.000000</td>\n",
       "    </tr>\n",
       "  </tbody>\n",
       "</table>\n",
       "</div>"
      ],
      "text/plain": [
       "         score1     score2     score3     weight      diff\n",
       "count   5.00000   5.000000   2.000000   5.000000  5.000000\n",
       "mean   84.80000  86.600000  49.000000   5.908000 -0.760000\n",
       "std    13.38656   8.173127  14.142136   4.148128  4.200357\n",
       "min    65.00000  79.000000  39.000000   0.120000 -5.400000\n",
       "25%    79.00000  79.000000  44.000000   4.220000 -3.300000\n",
       "50%    87.00000  85.000000  49.000000   5.430000 -2.100000\n",
       "75%    94.00000  93.000000  54.000000   9.330000  2.000000\n",
       "max    99.00000  97.000000  59.000000  10.440000  5.000000"
      ]
     },
     "execution_count": 7,
     "metadata": {},
     "output_type": "execute_result"
    }
   ],
   "source": [
    "# 데이터 프레임 기술 통계 정보 확인\n",
    "data.describe()"
   ]
  },
  {
   "cell_type": "code",
   "execution_count": 8,
   "id": "aee84491",
   "metadata": {},
   "outputs": [
    {
     "data": {
      "text/html": [
       "<div>\n",
       "<style scoped>\n",
       "    .dataframe tbody tr th:only-of-type {\n",
       "        vertical-align: middle;\n",
       "    }\n",
       "\n",
       "    .dataframe tbody tr th {\n",
       "        vertical-align: top;\n",
       "    }\n",
       "\n",
       "    .dataframe thead th {\n",
       "        text-align: right;\n",
       "    }\n",
       "</style>\n",
       "<table border=\"1\" class=\"dataframe\">\n",
       "  <thead>\n",
       "    <tr style=\"text-align: right;\">\n",
       "      <th></th>\n",
       "      <th>place</th>\n",
       "    </tr>\n",
       "  </thead>\n",
       "  <tbody>\n",
       "    <tr>\n",
       "      <th>count</th>\n",
       "      <td>5</td>\n",
       "    </tr>\n",
       "    <tr>\n",
       "      <th>unique</th>\n",
       "      <td>2</td>\n",
       "    </tr>\n",
       "    <tr>\n",
       "      <th>top</th>\n",
       "      <td>A</td>\n",
       "    </tr>\n",
       "    <tr>\n",
       "      <th>freq</th>\n",
       "      <td>3</td>\n",
       "    </tr>\n",
       "  </tbody>\n",
       "</table>\n",
       "</div>"
      ],
      "text/plain": [
       "       place\n",
       "count      5\n",
       "unique     2\n",
       "top        A\n",
       "freq       3"
      ]
     },
     "execution_count": 8,
     "metadata": {},
     "output_type": "execute_result"
    }
   ],
   "source": [
    "# 범주형 볌수의 기술 통계 정보 확인, object type\n",
    "data.describe(include = 'object')"
   ]
  },
  {
   "cell_type": "code",
   "execution_count": 9,
   "id": "cf154e07",
   "metadata": {},
   "outputs": [
    {
     "name": "stdout",
     "output_type": "stream",
     "text": [
      "한 변수 84.8\n"
     ]
    }
   ],
   "source": [
    "# 중심경향치\n",
    "# mean() 산술평군 , trim_mean() 절사평균, np,average(weight=) 가중평군\n",
    "# median() 중앙값, mode() 최빈수\n",
    "\n",
    "# 한 변수의 평균\n",
    "print('한 변수', data['score1'].mean())"
   ]
  },
  {
   "cell_type": "code",
   "execution_count": 10,
   "id": "d679a780",
   "metadata": {},
   "outputs": [
    {
     "name": "stdout",
     "output_type": "stream",
     "text": [
      "전체 : \n",
      "score1    84.800\n",
      "score2    86.600\n",
      "score3    49.000\n",
      "weight     5.908\n",
      "diff      -0.760\n",
      "dtype: float64\n"
     ]
    },
    {
     "name": "stderr",
     "output_type": "stream",
     "text": [
      "C:\\Users\\user\\AppData\\Local\\Temp\\ipykernel_7868\\1942716048.py:3: FutureWarning: Dropping of nuisance columns in DataFrame reductions (with 'numeric_only=None') is deprecated; in a future version this will raise TypeError.  Select only valid columns before calling the reduction.\n",
      "  print(data.mean())\n"
     ]
    }
   ],
   "source": [
    "# 데이터 프레임 전쳉의 평균\n",
    "print('전체 : ')\n",
    "print(data.mean())"
   ]
  },
  {
   "cell_type": "code",
   "execution_count": 11,
   "id": "a0674a75",
   "metadata": {},
   "outputs": [
    {
     "name": "stdout",
     "output_type": "stream",
     "text": [
      "86.6\n"
     ]
    }
   ],
   "source": [
    "# 절사평균\n",
    "from scipy.stats import trim_mean\n",
    "print(trim_mean(data['score2'],0.1))"
   ]
  },
  {
   "cell_type": "code",
   "execution_count": 12,
   "id": "56bf54b6",
   "metadata": {},
   "outputs": [
    {
     "data": {
      "text/plain": [
       "86.01760324983074"
      ]
     },
     "execution_count": 12,
     "metadata": {},
     "output_type": "execute_result"
    }
   ],
   "source": [
    "# 가중 평균\n",
    "np.average(data['score2'], weights=data['weight'])\n",
    "# weights = 가중치를 반영할 컬럼."
   ]
  },
  {
   "cell_type": "code",
   "execution_count": 13,
   "id": "740d2b26",
   "metadata": {},
   "outputs": [
    {
     "name": "stdout",
     "output_type": "stream",
     "text": [
      "85.0\n"
     ]
    }
   ],
   "source": [
    "# 중앙값\n",
    "## 데이터 개수 : 홀수\n",
    "print(data['score2'].median())"
   ]
  },
  {
   "cell_type": "code",
   "execution_count": 14,
   "id": "f1f14670",
   "metadata": {},
   "outputs": [
    {
     "name": "stdout",
     "output_type": "stream",
     "text": [
      "300.0\n"
     ]
    }
   ],
   "source": [
    "## 데이터 개수 : 짝수\n",
    "x = [100, 600, 100, 200, 400, 500]\n",
    "print(np.median(x))"
   ]
  },
  {
   "cell_type": "code",
   "execution_count": 15,
   "id": "f9bb6944",
   "metadata": {},
   "outputs": [
    {
     "data": {
      "text/plain": [
       "0    79\n",
       "Name: score2, dtype: int64"
      ]
     },
     "execution_count": 15,
     "metadata": {},
     "output_type": "execute_result"
    }
   ],
   "source": [
    "# 최빈값\n",
    "data['score2'].mode()"
   ]
  },
  {
   "cell_type": "code",
   "execution_count": 16,
   "id": "6e15566e",
   "metadata": {},
   "outputs": [
    {
     "data": {
      "text/plain": [
       "18"
      ]
     },
     "execution_count": 16,
     "metadata": {},
     "output_type": "execute_result"
    }
   ],
   "source": [
    "# 산포도\n",
    "data['score2'].max() - data['score2'].min()"
   ]
  },
  {
   "cell_type": "code",
   "execution_count": 17,
   "id": "05c29930",
   "metadata": {},
   "outputs": [
    {
     "name": "stdout",
     "output_type": "stream",
     "text": [
      "66.8\n",
      "8.17312669668102\n"
     ]
    }
   ],
   "source": [
    "# 분산\n",
    "print(data['score2'].var())\n",
    "# 표준편차\n",
    "print(data['score2'].std())"
   ]
  },
  {
   "cell_type": "code",
   "execution_count": 18,
   "id": "17019658",
   "metadata": {},
   "outputs": [
    {
     "name": "stdout",
     "output_type": "stream",
     "text": [
      "14.0\n"
     ]
    }
   ],
   "source": [
    "# 사분위수 범위\n",
    "print(data['score2'].quantile(0.75) - data['score2'].quantile(0.25))"
   ]
  },
  {
   "cell_type": "code",
   "execution_count": 19,
   "id": "79e3c868",
   "metadata": {},
   "outputs": [
    {
     "name": "stdout",
     "output_type": "stream",
     "text": [
      "score1 의 cv계수 :  0.158\n",
      "score2 의 cv계수 :  0.094\n"
     ]
    }
   ],
   "source": [
    "# 변동 계수\n",
    "cv1 = data['score1'].std() / data['score1'].mean()\n",
    "cv2 = data['score2'].std() / data['score2'].mean()\n",
    "\n",
    "print('score1 의 cv계수 : ', format(np.round(cv1, 3)))\n",
    "print('score2 의 cv계수 : ', format(np.round(cv2, 3)))"
   ]
  },
  {
   "cell_type": "code",
   "execution_count": 20,
   "id": "44c2d3ab",
   "metadata": {},
   "outputs": [
    {
     "data": {
      "text/plain": [
       "'  비대칭도  '"
      ]
     },
     "execution_count": 20,
     "metadata": {},
     "output_type": "execute_result"
    }
   ],
   "source": [
    "'''  비대칭도  '''"
   ]
  },
  {
   "cell_type": "code",
   "execution_count": 21,
   "id": "29d311f6",
   "metadata": {},
   "outputs": [],
   "source": [
    "# 시각화 패키지\n",
    "%matplotlib inline\n",
    "import warnings\n",
    "warnings.simplefilter(action = 'ignore', category = FutureWarning)\n",
    "import matplotlib.pyplot as plt\n",
    "import seaborn as sns"
   ]
  },
  {
   "cell_type": "code",
   "execution_count": 22,
   "id": "01ff79e0",
   "metadata": {},
   "outputs": [],
   "source": [
    "# 깨짐 방지를 위한 Font 지정\n",
    "import os\n",
    "if os.name =='nt' : \n",
    "    font_family = \"Malgun Gothic\"\n",
    "else :\n",
    "    font_family = \"AppleGothic\"\n",
    "\n",
    "# 값이 깨지는 문제 해결을 위해 파라미터값 설정\n",
    "sns.set(font=font_family, rc = {\"axes.unicode_minus\" : False})"
   ]
  },
  {
   "cell_type": "code",
   "execution_count": 23,
   "id": "3cf52367",
   "metadata": {},
   "outputs": [],
   "source": [
    "# 왜도 산출\n",
    "from scipy.stats import skew"
   ]
  },
  {
   "cell_type": "code",
   "execution_count": 24,
   "id": "c49c32df",
   "metadata": {},
   "outputs": [
    {
     "name": "stdout",
     "output_type": "stream",
     "text": [
      "1.6656293067949786\n",
      "-1.0422210554570965\n"
     ]
    }
   ],
   "source": [
    "skew_list1 = [1, 1, 1, 1, 1, 1, 1, 1, 1, 1, 1, 2, 2, 2, 2, 2, 3, 4, 5]\n",
    "skew_list2 = [1, 2, 3 ,3, 4, 4, 5, 5, 5, 5, 6, 6, 6, 6, 6, 6, 6, 6]\n",
    "\n",
    "print(skew(skew_list1))\n",
    "print(skew(skew_list2))"
   ]
  },
  {
   "cell_type": "code",
   "execution_count": 25,
   "id": "27ab527c",
   "metadata": {},
   "outputs": [
    {
     "data": {
      "image/png": "[encoded data removed]",
      "text/plain": [
       "<Figure size 864x432 with 2 Axes>"
      ]
     },
     "metadata": {},
     "output_type": "display_data"
    }
   ],
   "source": [
    "# 왜도 시각화\n",
    "plt.figure(figsize = (12,6))\n",
    "plt.subplot(1, 2, 1)\n",
    "dis_plot = sns.distplot(skew_list1)\n",
    "plt.title('우측 꼬리 분포, 왜도 > 1', fontsize = 16)\n",
    "\n",
    "plt.subplot(1,2,2)\n",
    "dis_plot = sns.distplot(skew_list2)\n",
    "plt.title('좌측 꼬리 분포, 왜도 < 1', fontsize = 16)\n",
    "plt.show()"
   ]
  },
  {
   "cell_type": "code",
   "execution_count": 26,
   "id": "93b76eda",
   "metadata": {},
   "outputs": [
    {
     "name": "stdout",
     "output_type": "stream",
     "text": [
      "-1.2242424242424244\n",
      "2.351887069895106\n"
     ]
    }
   ],
   "source": [
    "# 첨도 산출\n",
    "from scipy.stats import kurtosis\n",
    "kur_list1 = [1, 2, 3, 4, 5, 6, 7, 8, 9, 10]\n",
    "kur_list2 = [1, 2, 3, 4, 5, 5, 5, 5, 5, 5, 5, 5,5, 5, 5, 5, 5, 5, 5, 5, 5, 5, 5, 5, 5,  6, 7, 8, 9, 10]\n",
    "print(kurtosis(kur_list1))\n",
    "print(kurtosis(kur_list2))"
   ]
  },
  {
   "cell_type": "code",
   "execution_count": 31,
   "id": "9b9fcff0",
   "metadata": {},
   "outputs": [
    {
     "data": {
      "image/png": "[encoded data removed]",
      "text/plain": [
       "<Figure size 1440x432 with 1 Axes>"
      ]
     },
     "metadata": {},
     "output_type": "display_data"
    },
    {
     "data": {
      "image/png": "[encoded data removed]",
      "text/plain": [
       "<Figure size 432x288 with 1 Axes>"
      ]
     },
     "metadata": {},
     "output_type": "display_data"
    }
   ],
   "source": [
    "# 첨도 시각화\n",
    "plt.figure(figsize = (20, 6))\n",
    "plt.subplot(1,2,1)\n",
    "dis_plot = sns.distplot(kur_list1)\n",
    "plt.title('첨도 < 1', fontsize = 16)\n",
    "plt.show()\n",
    "\n",
    "plt.figure(figsize = (20, 6))\n",
    "plt.subplot(1,2,2)\n",
    "dis_plot = sns.distplot(kur_list2)\n",
    "plt.title('첨도 > 1', fontsize = 16)\n",
    "plt.show()"
   ]
  },
  {
   "cell_type": "code",
   "execution_count": null,
   "id": "f65cf655",
   "metadata": {},
   "outputs": [],
   "source": []
  }
 ],
 "metadata": {
  "kernelspec": {
   "display_name": "Python 3 (ipykernel)",
   "language": "python",
   "name": "python3"
  },
  "language_info": {
   "codemirror_mode": {
    "name": "ipython",
    "version": 3
   },
   "file_extension": ".py",
   "mimetype": "text/x-python",
   "name": "python",
   "nbconvert_exporter": "python",
   "pygments_lexer": "ipython3",
   "version": "3.9.12"
  }
 },
 "nbformat": 4,
 "nbformat_minor": 5
}
