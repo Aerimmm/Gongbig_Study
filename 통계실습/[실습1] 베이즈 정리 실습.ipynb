{
 "cells": [
  {
   "cell_type": "code",
   "execution_count": 8,
   "id": "094e03d6",
   "metadata": {},
   "outputs": [],
   "source": [
    "import pandas as pd\n",
    "\n",
    "smoke_data = pd.DataFrame(\n",
    "                    {\"나이그룹\" : ['10','10','10','10','10','10','10','10','10','10',\n",
    "                              '20','20','20','20','20','20','20','20','20','20',\n",
    "                              '30', '30', '30', '30', '30', '30', '30', '30', '30', '30'],\n",
    "                     \"흡연여부\" : ['유','유','무','무','무','무','무','무','무','무',\n",
    "                              '유','유','유','유','유','무','무','무','무','무',\n",
    "                              '유','유','유','유','유','유','유','무','무','무',]     \n",
    "                    }\n",
    ")         "
   ]
  },
  {
   "cell_type": "code",
   "execution_count": 47,
   "id": "17c77d66",
   "metadata": {},
   "outputs": [
    {
     "data": {
      "text/html": [
       "<div>\n",
       "<style scoped>\n",
       "    .dataframe tbody tr th:only-of-type {\n",
       "        vertical-align: middle;\n",
       "    }\n",
       "\n",
       "    .dataframe tbody tr th {\n",
       "        vertical-align: top;\n",
       "    }\n",
       "\n",
       "    .dataframe thead th {\n",
       "        text-align: right;\n",
       "    }\n",
       "</style>\n",
       "<table border=\"1\" class=\"dataframe\">\n",
       "  <thead>\n",
       "    <tr style=\"text-align: right;\">\n",
       "      <th>흡연여부</th>\n",
       "      <th>무</th>\n",
       "      <th>유</th>\n",
       "    </tr>\n",
       "    <tr>\n",
       "      <th>나이그룹</th>\n",
       "      <th></th>\n",
       "      <th></th>\n",
       "    </tr>\n",
       "  </thead>\n",
       "  <tbody>\n",
       "    <tr>\n",
       "      <th>10</th>\n",
       "      <td>8</td>\n",
       "      <td>2</td>\n",
       "    </tr>\n",
       "    <tr>\n",
       "      <th>20</th>\n",
       "      <td>5</td>\n",
       "      <td>5</td>\n",
       "    </tr>\n",
       "    <tr>\n",
       "      <th>30</th>\n",
       "      <td>3</td>\n",
       "      <td>7</td>\n",
       "    </tr>\n",
       "  </tbody>\n",
       "</table>\n",
       "</div>"
      ],
      "text/plain": [
       "흡연여부  무  유\n",
       "나이그룹      \n",
       "10    8  2\n",
       "20    5  5\n",
       "30    3  7"
      ]
     },
     "execution_count": 47,
     "metadata": {},
     "output_type": "execute_result"
    }
   ],
   "source": [
    "## 계산하기 위한 교차표\n",
    "data_crosstab = pd.crosstab(smoke_data['나이그룹'],\n",
    "                            smoke_data['흡연여부'], margins=False)\n",
    "data_crosstab"
   ]
  },
  {
   "cell_type": "code",
   "execution_count": 14,
   "id": "82565675",
   "metadata": {},
   "outputs": [
    {
     "name": "stdout",
     "output_type": "stream",
     "text": [
      "10대 확률: 0.3333333333333333\n",
      "20대 확률: 0.3333333333333333\n",
      "30대 확률: 0.3333333333333333\n",
      "전체 흡연 확률 :  0.4666666666666667\n",
      "전체 비흡연 확률:  0.5333333333333333\n"
     ]
    }
   ],
   "source": [
    "## 확률 계산\n",
    "\n",
    "p_10 = data_crosstab.loc['10'].sum()/data_crosstab.values.sum()\n",
    "print(\"10대 확률:\" , p_10)\n",
    "p_20 = data_crosstab.loc['20'].sum()/data_crosstab.values.sum()\n",
    "print(\"20대 확률:\" , p_20)\n",
    "p_30 = data_crosstab.loc['30'].sum()/data_crosstab.values.sum()\n",
    "print(\"30대 확률:\" , p_30)\n",
    "\n",
    "p_smok = data_crosstab['유'].sum()/data_crosstab.values.sum()\n",
    "print('전체 흡연 확률 : ', p_smok)\n",
    "p_smok_non = data_crosstab['무'].sum() / data_crosstab.values.sum()\n",
    "print('전체 비흡연 확률: ', p_smok_non)"
   ]
  },
  {
   "cell_type": "code",
   "execution_count": 22,
   "id": "1f735003",
   "metadata": {},
   "outputs": [
    {
     "name": "stdout",
     "output_type": "stream",
     "text": [
      "P(흡연 | 10대): 0.2\n",
      "P(흡연 | 20대): 0.5\n",
      "P(흡연 | 30대): 0.7\n"
     ]
    }
   ],
   "source": [
    "''' 베이즈 정리 실습 '''\n",
    "\n",
    "# 사전 확률과 사후 확률 사이의 관계를 조건부 확률을 역으로 이용하여 확률 계산\n",
    "\n",
    "# 조건부 확률\n",
    "\n",
    "p_smok_given_10 = data_crosstab.loc['10']['유']/data_crosstab.loc['10'].sum()\n",
    "# 10대이면서 흡연할 확률 = 10대이면서 흡연 유 / 10대 수\n",
    "print('P(흡연 | 10대):', p_smok_given_10)\n",
    "\n",
    "p_smok_given_20 = data_crosstab.loc['20']['유']/data_crosstab.loc['20'].sum()\n",
    "# 20대이면서 흡연할 확률 = 20대이면서 흡연 유 / 20대 수\n",
    "print('P(흡연 | 20대):', p_smok_given_20)\n",
    "\n",
    "p_smok_given_30 = data_crosstab.loc['30']['유']/data_crosstab.loc['30'].sum()\n",
    "# 30대이면서 흡연할 확률 = 30대이면서 흡연 유 / 30대 수\n",
    "print('P(흡연 | 30대):', p_smok_given_30)"
   ]
  },
  {
   "cell_type": "code",
   "execution_count": 44,
   "id": "e17a794e",
   "metadata": {},
   "outputs": [
    {
     "name": "stdout",
     "output_type": "stream",
     "text": [
      "전확률 :  0.4666666666666667\n",
      "P(30대) * P(흡연 | 30대):  0.2333333333333333\n"
     ]
    }
   ],
   "source": [
    "## 전확률\n",
    "total_p = (p_10 * p_smok_given_10) + (p_20 * p_smok_given_20) + (p_30 * p_smok_given_30)\n",
    "print('전확률 : ', total_op)\n",
    "# 전확률 : (10대일 확률 * 10대이면서 흡연확률) + (20대일 확률 * 20대이면서 흡연확률) *\n",
    "# (30대일 확률 * 30대이면서 흡연할확률)\n",
    "\n",
    "## P(30대) * P(30대 | 흡연)      :     30대 확률 * 흡연자 중에 30대일 확률\n",
    "p_30_smok_given_30 = (p_30 * p_smok_given_30)\n",
    "# 30대 확률 * 30대이면서 흡연할 확률\n",
    "print('P(30대) * P(흡연 | 30대): ', p_30_smok_given_30)"
   ]
  },
  {
   "cell_type": "code",
   "execution_count": 45,
   "id": "212a8b56",
   "metadata": {},
   "outputs": [
    {
     "name": "stdout",
     "output_type": "stream",
     "text": [
      "담배피는 사람일 때 30대일 확률 0.5\n"
     ]
    }
   ],
   "source": [
    "## 베이즈 확률 : P(30대 | 흡연), 흡연자 중 30대일 확률\n",
    "\n",
    "p_30_given_smok = p_30_smok_given_30 / total_p\n",
    "\n",
    "# 흡연자 중 30대일 확률 = 흡연자 중 30대일 확률 / 전확률\n",
    "\n",
    "print(\"담배피는 사람일 때 30대일 확률 {}\".format(round(p_30_given_smok,3)))"
   ]
  },
  {
   "cell_type": "code",
   "execution_count": null,
   "id": "0105bbfd",
   "metadata": {},
   "outputs": [],
   "source": [
    "''' 베이즈 정리 실습 '''"
   ]
  },
  {
   "cell_type": "code",
   "execution_count": 43,
   "id": "b0fab552",
   "metadata": {},
   "outputs": [
    {
     "name": "stdout",
     "output_type": "stream",
     "text": [
      "[2 1 0 2 0 2 0 1 1 1 1 1 1 1 1 0 1 1 0 0 2 1 0 0 2 0 0 1 1 0 2 1 0 2 2 1 0\n",
      " 1 1 1 2 0 2 0 0 1 2 2 1 2 1 2 1 1 2 1 1 2 1 2 1 0 2 1 1 1 1 2 0 0 2 1 0 0\n",
      " 1]\n",
      "Number of mislabeled points out of a total 75 points : 4\n"
     ]
    }
   ],
   "source": [
    "# [참조] sklearn 나이브 베이즈\n",
    "\n",
    "from sklearn.datasets import load_iris\n",
    "from sklearn.model_selection import train_test_split\n",
    "from sklearn.naive_bayes import GaussianNB\n",
    "\n",
    "# 아이리스 데이터 셋업 : x(feature) 와  y(결과) 의 값을  각각 세팅\n",
    "X, y = load_iris(return_X_y = True)\n",
    "\n",
    "# Feature 조합인 X의 값을 Train, test 로 나누고, 결과 조합인 y의 값을 Train, test로 나눔\n",
    "X_train, X_test, y_train, y_test = train_test_split(X, y, test_size = 0.5, random_state= 0)\n",
    "\n",
    "# 나이브 베이즈는 가우시안 나이브 베이즈\n",
    "# 정규분포를 가정한 표본들을 대상으로 조건부 독립을 나타내, 항상 같은 분모를 갖는 조건하에서, \n",
    "# 분자의 값이 가장 큰 경우,즉 확률이 가장 높은 경우를 \"선택\"하는 것이다. \n",
    "nb = GaussianNB()\n",
    "\n",
    "# train 데이터로 학습을진행하며,  X_test 데이타로 결과를 예측하여 y_pred 에 입력\n",
    "y_pred = nb.fit(X_train, y_train).predict(X_test)\n",
    "print(y_pred)\n",
    "\n",
    "# 실제값과 y 의 예측값을 비교하여 틀린 개수를 출력\n",
    "print(\"Number of mislabeled points out of a total %d points : %d\"\n",
    "% (X_test.shape[0], (y_test != y_pred).sum()))\n"
   ]
  },
  {
   "cell_type": "code",
   "execution_count": null,
   "id": "6de0f5cb",
   "metadata": {},
   "outputs": [],
   "source": [
    "\n"
   ]
  }
 ],
 "metadata": {
  "kernelspec": {
   "display_name": "Python 3 (ipykernel)",
   "language": "python",
   "name": "python3"
  },
  "language_info": {
   "codemirror_mode": {
    "name": "ipython",
    "version": 3
   },
   "file_extension": ".py",
   "mimetype": "text/x-python",
   "name": "python",
   "nbconvert_exporter": "python",
   "pygments_lexer": "ipython3",
   "version": "3.9.12"
  }
 },
 "nbformat": 4,
 "nbformat_minor": 5
}
