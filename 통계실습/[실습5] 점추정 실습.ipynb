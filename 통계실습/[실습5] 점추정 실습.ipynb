{
 "cells": [
  {
   "cell_type": "code",
   "execution_count": 6,
   "id": "38551365",
   "metadata": {},
   "outputs": [],
   "source": [
    "import os\n",
    "import warnings\n",
    "warnings.simplefilter(action = 'ignore', category = FutureWarning)\n",
    "\n",
    "import numpy as np\n",
    "import pandas as pd\n",
    "from scipy import stats\n",
    "\n",
    "import matplotlib.pyplot as plt\n",
    "import seaborn as sns\n",
    "%matplotlib inline\n",
    "\n",
    "import os\n",
    "if os.name == 'nt' : # windows OS\n",
    "    font_family = \"Malgun Gothic\"\n",
    "else : #Mac OS\n",
    "    font_family = \"AppleGothic\"\n",
    "    \n",
    "# 값이 깨지는 문제 해결을 위해 파라미터값 설정\n",
    "sns.set(font=font_family, rc ={\"axes.unicode_minus\" : False})"
   ]
  },
  {
   "cell_type": "code",
   "execution_count": 7,
   "id": "a4018f30",
   "metadata": {},
   "outputs": [],
   "source": [
    "# 데이터생성\n",
    "np.random.seed(100)\n",
    "\n",
    "math_score = pd.DataFrame(np.random.randint(25, 101, size = 500), columns = [\"점수\"])"
   ]
  },
  {
   "cell_type": "code",
   "execution_count": 8,
   "id": "edd10282",
   "metadata": {},
   "outputs": [
    {
     "data": {
      "text/html": [
       "<div>\n",
       "<style scoped>\n",
       "    .dataframe tbody tr th:only-of-type {\n",
       "        vertical-align: middle;\n",
       "    }\n",
       "\n",
       "    .dataframe tbody tr th {\n",
       "        vertical-align: top;\n",
       "    }\n",
       "\n",
       "    .dataframe thead th {\n",
       "        text-align: right;\n",
       "    }\n",
       "</style>\n",
       "<table border=\"1\" class=\"dataframe\">\n",
       "  <thead>\n",
       "    <tr style=\"text-align: right;\">\n",
       "      <th></th>\n",
       "      <th>점수</th>\n",
       "    </tr>\n",
       "  </thead>\n",
       "  <tbody>\n",
       "    <tr>\n",
       "      <th>count</th>\n",
       "      <td>500.000000</td>\n",
       "    </tr>\n",
       "    <tr>\n",
       "      <th>mean</th>\n",
       "      <td>61.580000</td>\n",
       "    </tr>\n",
       "    <tr>\n",
       "      <th>std</th>\n",
       "      <td>21.513374</td>\n",
       "    </tr>\n",
       "    <tr>\n",
       "      <th>min</th>\n",
       "      <td>25.000000</td>\n",
       "    </tr>\n",
       "    <tr>\n",
       "      <th>25%</th>\n",
       "      <td>42.000000</td>\n",
       "    </tr>\n",
       "    <tr>\n",
       "      <th>50%</th>\n",
       "      <td>62.500000</td>\n",
       "    </tr>\n",
       "    <tr>\n",
       "      <th>75%</th>\n",
       "      <td>79.000000</td>\n",
       "    </tr>\n",
       "    <tr>\n",
       "      <th>max</th>\n",
       "      <td>100.000000</td>\n",
       "    </tr>\n",
       "  </tbody>\n",
       "</table>\n",
       "</div>"
      ],
      "text/plain": [
       "               점수\n",
       "count  500.000000\n",
       "mean    61.580000\n",
       "std     21.513374\n",
       "min     25.000000\n",
       "25%     42.000000\n",
       "50%     62.500000\n",
       "75%     79.000000\n",
       "max    100.000000"
      ]
     },
     "execution_count": 8,
     "metadata": {},
     "output_type": "execute_result"
    }
   ],
   "source": [
    "# 요약정보\n",
    "math_score.describe()"
   ]
  },
  {
   "cell_type": "code",
   "execution_count": 9,
   "id": "aa2f13cb",
   "metadata": {},
   "outputs": [
    {
     "data": {
      "text/plain": [
       "array([33, 49, 92, 73, 35])"
      ]
     },
     "execution_count": 9,
     "metadata": {},
     "output_type": "execute_result"
    }
   ],
   "source": [
    "# 데이터 확인\n",
    "scores = np.array(math_score['점수'])\n",
    "scores[:5]"
   ]
  },
  {
   "cell_type": "code",
   "execution_count": 10,
   "id": "4c338987",
   "metadata": {},
   "outputs": [
    {
     "name": "stdout",
     "output_type": "stream",
     "text": [
      "샘플 :  [85 91 85 81 64 96 83 68 53 52 61 80 89 32 95 64 81 72 94 92]\n",
      "평균 :  75.9\n",
      "분산 :  282.29\n",
      "표준편차 :  16.801488029338355\n"
     ]
    }
   ],
   "source": [
    "# 20개 샘플 추출 (복원추출)\n",
    "sample = np.random.choice(scores, 20)\n",
    "print('샘플 : ', sample)\n",
    "print('평균 : ', sample.mean())\n",
    "print('분산 : ', sample.var())\n",
    "print('표준편차 : ', sample.std())"
   ]
  },
  {
   "cell_type": "code",
   "execution_count": 15,
   "id": "400b7088",
   "metadata": {},
   "outputs": [
    {
     "name": "stdout",
     "output_type": "stream",
     "text": [
      "1 표본평균 :  62.1\n",
      "2 표본평균 :  64.8\n",
      "3 표본평균 :  70.7\n",
      "4 표본평균 :  71.25\n",
      "5 표본평균 :  58.9\n",
      "6 표본평균 :  63.9\n",
      "7 표본평균 :  62.65\n",
      "8 표본평균 :  65.2\n",
      "9 표본평균 :  64.9\n",
      "10 표본평균 :  61.0\n"
     ]
    }
   ],
   "source": [
    "# 표본에 따라 평균 오차 확인\n",
    "for i in range(10) :\n",
    "    sample1 = np.random.choice(scores, 20)\n",
    "    print(i+1, '표본평균 : ', sample1.mean())"
   ]
  },
  {
   "cell_type": "code",
   "execution_count": 16,
   "id": "a841a91c",
   "metadata": {},
   "outputs": [
    {
     "data": {
      "image/png": "[encoded data removed]",
      "text/plain": [
       "<Figure size 432x288 with 1 Axes>"
      ]
     },
     "metadata": {},
     "output_type": "display_data"
    }
   ],
   "source": [
    "# 모집단 데이터 분포 확인\n",
    "plt.xlabel('score')\n",
    "plt.ylabel('relative frquency')\n",
    "plt.hist(scores, bins=100, range=(0,100), density = True)\n",
    "plt.xlim(20, 100)\n",
    "plt.show()"
   ]
  },
  {
   "cell_type": "code",
   "execution_count": 17,
   "id": "545799e1",
   "metadata": {},
   "outputs": [],
   "source": [
    "# 샘플 2 10000개  생성하여 분포 확인\n",
    "sample_score = np.random.choice(scores, 10000)"
   ]
  },
  {
   "cell_type": "code",
   "execution_count": 18,
   "id": "d53f9bd6",
   "metadata": {},
   "outputs": [
    {
     "data": {
      "image/png": "[encoded data removed]",
      "text/plain": [
       "<Figure size 432x288 with 1 Axes>"
      ]
     },
     "metadata": {},
     "output_type": "display_data"
    }
   ],
   "source": [
    "plt.hist(sample_score, bins=100, range=(0,100), density=True)\n",
    "plt.xlim(20, 100)\n",
    "plt.show()"
   ]
  },
  {
   "cell_type": "code",
   "execution_count": 19,
   "id": "11b3c3f7",
   "metadata": {},
   "outputs": [],
   "source": [
    "# 20개(n) 의 표본 100번 추출\n",
    "n = 20\n",
    "nSample = 100\n",
    "\n",
    "sample_mean = np.array([np.random.choice(scores,n).mean() for _ in range(nSample)])"
   ]
  },
  {
   "cell_type": "code",
   "execution_count": 20,
   "id": "9e2ac6fb",
   "metadata": {},
   "outputs": [
    {
     "data": {
      "text/plain": [
       "array([56.15, 59.25, 61.  , 61.1 , 61.  , 62.1 , 60.  , 67.  , 58.3 ,\n",
       "       57.1 , 63.7 , 57.35, 63.85, 63.55, 62.75, 65.6 , 63.65, 62.15,\n",
       "       65.25, 50.45, 64.65, 68.8 , 60.55, 58.85, 57.45, 69.15, 56.  ,\n",
       "       58.9 , 63.  , 58.7 , 64.05, 65.8 , 58.7 , 69.75, 73.15, 56.55,\n",
       "       52.7 , 66.95, 58.15, 66.55, 59.4 , 61.2 , 59.9 , 56.35, 62.6 ,\n",
       "       61.4 , 65.4 , 65.75, 68.85, 64.4 , 58.7 , 55.55, 65.3 , 57.95,\n",
       "       62.8 , 62.65, 58.95, 61.8 , 62.95, 57.  , 60.65, 63.05, 62.8 ,\n",
       "       61.65, 60.  , 59.8 , 58.05, 55.4 , 58.35, 56.  , 55.9 , 62.  ,\n",
       "       64.55, 64.35, 66.95, 56.55, 66.95, 63.6 , 65.1 , 72.35, 61.45,\n",
       "       68.85, 69.4 , 64.95, 57.4 , 62.25, 64.35, 62.15, 69.1 , 58.4 ,\n",
       "       70.45, 64.95, 50.75, 58.65, 59.65, 58.95, 64.6 , 65.75, 65.3 ,\n",
       "       58.1 ])"
      ]
     },
     "execution_count": 20,
     "metadata": {},
     "output_type": "execute_result"
    }
   ],
   "source": [
    "# 표본평균 분포 확인\n",
    "sample_mean"
   ]
  },
  {
   "cell_type": "code",
   "execution_count": 24,
   "id": "1744703d",
   "metadata": {},
   "outputs": [
    {
     "name": "stdout",
     "output_type": "stream",
     "text": [
      "모평균 : 61.58\n",
      "표본평균의 평균 : 61.881000000000014\n",
      "모분산 / n :  23.09498\n",
      "표본평균의 분산 :  19.727688999999998\n",
      "표본평균의 편차 :  4.441586315720994\n",
      "표준오차 :  4.805723670790903\n"
     ]
    }
   ],
   "source": [
    "# 모평균\n",
    "print('모평균 :', scores.mean())\n",
    "\n",
    "# 표본평균의 평균 <= 모집단을모를 경우 표본평균이 모수로 추정\n",
    "print('표본평균의 평균 :' , sample_mean.mean())\n",
    "\n",
    "# 모분산 / n\n",
    "print('모분산 / n : ', scores.var()/n)\n",
    "\n",
    "# 표본평균의 분산\n",
    "print('표본평균의 분산 : ' , sample_mean.var())\n",
    "\n",
    "# 표본평균의 편차\n",
    "print('표본평균의 편차 : ', sample_mean.std())\n",
    "\n",
    "# 표준오차 : Standard error of the mean\n",
    "print('표준오차 : ', scores.std() / np.sqrt(n))"
   ]
  },
  {
   "cell_type": "code",
   "execution_count": null,
   "id": "814061f8",
   "metadata": {},
   "outputs": [],
   "source": []
  }
 ],
 "metadata": {
  "kernelspec": {
   "display_name": "Python 3 (ipykernel)",
   "language": "python",
   "name": "python3"
  },
  "language_info": {
   "codemirror_mode": {
    "name": "ipython",
    "version": 3
   },
   "file_extension": ".py",
   "mimetype": "text/x-python",
   "name": "python",
   "nbconvert_exporter": "python",
   "pygments_lexer": "ipython3",
   "version": "3.9.12"
  }
 },
 "nbformat": 4,
 "nbformat_minor": 5
}
